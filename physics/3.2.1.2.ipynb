{
 "cells": [
  {
   "cell_type": "code",
   "execution_count": 50,
   "id": "a92069f2-c615-426c-aae9-b699ba3dfafd",
   "metadata": {},
   "outputs": [
    {
     "data": {
      "text/plain": [
       "<module 'common.nuclear' from '/home/mic/Documents/code/python/boldNotes/common/nuclear.py'>"
      ]
     },
     "execution_count": 50,
     "metadata": {},
     "output_type": "execute_result"
    }
   ],
   "source": [
    "from manim import *\n",
    "from common import nuclear\n",
    "from importlib import reload\n",
    "import random\n",
    "reload(nuclear)"
   ]
  },
  {
   "cell_type": "code",
   "execution_count": null,
   "id": "30ebd978-f531-46c8-bee5-912be54dd5ac",
   "metadata": {},
   "outputs": [
    {
     "name": "stderr",
     "output_type": "stream",
     "text": [
      "                                                                                        \r"
     ]
    }
   ],
   "source": [
    "%%manim -v WARNING --disable_caching -qm MainScene\n",
    "\n",
    "config.media_width = \"75%\"\n",
    "config.media_embed = True\n",
    "\n",
    "class MainScene(Scene):\n",
    "    def construct(self):\n",
    "        nucleus = nuclear.Nucleus().init_from_nums(12, 12, 0.5, 4, seed=6)\n",
    "        self.wait(1)\n",
    "        # Alpha decay\n",
    "        self.play(*nucleus.create_anims())  # show the nucleus on screen\n",
    "        daughter1, daughter2, pairs1, pairs2 = nucleus.decay(2, 2, (2, -1), False, False, 1)\n",
    "\n",
    "        daughter1.shift(2 * RIGHT + DOWN)\n",
    "        \n",
    "        self.play(*map(lambda p: ReplacementTransform(p[0], p[1]), pairs1 + pairs2))\n",
    "        # # Gamma decay\n",
    "        new_daughter2_nucleons = daughter2.get_nucleons_list()\n",
    "        random.shuffle(new_daughter2_nucleons)\n",
    "        new_daughter2 = nuclear.Nucleus().init_from_nucleons(new_daughter2_nucleons, 0.5, 4, False)\n",
    "        # Go from each original nucleon to the shuffled one\n",
    "        self.play(*map(lambda n: ReplacementTransform(n[0], n[1]), zip(new_daughter2_nucleons, new_daughter2.get_nucleons_list())))\n",
    "        self.wait(1)"
   ]
  }
 ],
 "metadata": {
  "kernelspec": {
   "display_name": "Python [conda env:manim]",
   "language": "python",
   "name": "conda-env-manim-py"
  },
  "language_info": {
   "codemirror_mode": {
    "name": "ipython",
    "version": 3
   },
   "file_extension": ".py",
   "mimetype": "text/x-python",
   "name": "python",
   "nbconvert_exporter": "python",
   "pygments_lexer": "ipython3",
   "version": "3.11.4"
  }
 },
 "nbformat": 4,
 "nbformat_minor": 5
}
