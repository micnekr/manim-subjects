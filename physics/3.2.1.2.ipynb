{
 "cells": [
  {
   "cell_type": "code",
   "execution_count": 190,
   "id": "a92069f2-c615-426c-aae9-b699ba3dfafd",
   "metadata": {},
   "outputs": [
    {
     "data": {
      "text/plain": [
       "<module 'common.nuclear' from '/home/mic/Documents/code/python/boldNotes/common/nuclear.py'>"
      ]
     },
     "execution_count": 190,
     "metadata": {},
     "output_type": "execute_result"
    }
   ],
   "source": [
    "from manim import *\n",
    "from common import nuclear\n",
    "from importlib import reload\n",
    "reload(nuclear)"
   ]
  },
  {
   "cell_type": "markdown",
   "id": "fefadb44-7048-42c3-8b1d-2c2e56b15e7d",
   "metadata": {},
   "source": [
    "# %%manim -v WARNING --disable_caching -qm MainScene\n",
    "\n",
    "config.media_width = \"75%\"\n",
    "config.media_embed = True\n",
    "\n",
    "class MainScene(Scene):\n",
    "    def construct(self):\n",
    "        nucleus = nuclear.create_nucleus(6, 6, 0.5, 4, seed=1)\n",
    "        nucleus.move_to(0)\n",
    "        self.play(Create(nucleus))  # show the circle on screen\n",
    "        self.wait(3)"
   ]
  },
  {
   "cell_type": "code",
   "execution_count": null,
   "id": "30ebd978-f531-46c8-bee5-912be54dd5ac",
   "metadata": {},
   "outputs": [],
   "source": []
  }
 ],
 "metadata": {
  "kernelspec": {
   "display_name": "Python [conda env:manim]",
   "language": "python",
   "name": "conda-env-manim-py"
  },
  "language_info": {
   "codemirror_mode": {
    "name": "ipython",
    "version": 3
   },
   "file_extension": ".py",
   "mimetype": "text/x-python",
   "name": "python",
   "nbconvert_exporter": "python",
   "pygments_lexer": "ipython3",
   "version": "3.11.4"
  }
 },
 "nbformat": 4,
 "nbformat_minor": 5
}
