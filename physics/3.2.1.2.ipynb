{
 "cells": [
  {
   "cell_type": "code",
   "execution_count": 71,
   "id": "a92069f2-c615-426c-aae9-b699ba3dfafd",
   "metadata": {},
   "outputs": [],
   "source": [
    "from manim import *\n",
    "import manimpango\n",
    "from common import nuclear\n",
    "from importlib import reload\n",
    "import random"
   ]
  },
  {
   "cell_type": "code",
   "execution_count": 82,
   "id": "30ebd978-f531-46c8-bee5-912be54dd5ac",
   "metadata": {},
   "outputs": [
    {
     "ename": "SyntaxError",
     "evalue": "unmatched ')' (<string>, line 64)",
     "output_type": "error",
     "traceback": [
      "Traceback \u001b[0;36m(most recent call last)\u001b[0m:\n",
      "\u001b[0m  File \u001b[1;32m~/miniconda3/envs/manim/lib/python3.11/site-packages/IPython/core/interactiveshell.py:3508\u001b[0m in \u001b[1;35mrun_code\u001b[0m\n    exec(code_obj, self.user_global_ns, self.user_ns)\u001b[0m\n",
      "\u001b[0m  Cell \u001b[1;32mIn[82], line 1\u001b[0m\n    get_ipython().run_cell_magic('manim', '-v WARNING --disable_caching -qm MainScene', '\\nreload(nuclear)\\n\\nconfig.media_width = \"75%\"\\nconfig.media_embed = True\\n\\nPARTICLE_SIZE_MULTIPLIER = 0.6\\nNUCLEON_SEPARATION = 1.0\\nPARTICLE_LABEL_FONT_SIZE = 30\\n\\nclass MainScene(Scene):\\n    def construct(self):\\n        nucleus = nuclear.Nucleus().init_from_nums(12, 12, NUCLEON_SEPARATION, 4, PARTICLE_SIZE_MULTIPLIER, seed=6)\\n\\n        self.play(*nucleus.create_anims())  # show the nucleus on screen\\n        \\n        self.wait()\\n        # Alpha decay\\n        daughter1, daughter2, pairs1, pairs2 = nucleus.decay(2, 2, (2, -1), False, False, 1)\\n\\n        daughter1.shift(4 * RIGHT + 2 * DOWN)\\n        \\n        self.play(*map(lambda p: ReplacementTransform(p[0], p[1]), pairs1 + pairs2))\\n\\n        self.play(daughter2.animate.shift(2 * LEFT))\\n\\n        self.wait()\\n        \\n        # Beta + decay\\n        # pick a nucleon to decay\\n        proton = daughter2.find_closest_nucleon((-2, -1), nuclear.PROTON)\\n        # Turn it into a neutron\\n        neutron = nuclear.Particle(nuclear.NEUTRON, PARTICLE_SIZE_MULTIPLIER)\\n        neutron.move_to(proton)\\n\\n        positron = nuclear.Particle(nuclear.POSITRON, PARTICLE_SIZE_MULTIPLIER)\\n        positron.move_to(proton)\\n\\n        beta_plus_label = nuclear.ParticleLabel(positron, PARTICLE_LABEL_FONT_SIZE, r\"\\\\beta^+\")\\n        positron_label = nuclear.ParticleLabel(positron, PARTICLE_LABEL_FONT_SIZE)\\n\\n        self.add(positron, beta_plus_label)\\n        self.play(Transform(proton, neutron), positron.animate.shift(2 * LEFT + DOWN), run_time=1)\\n\\n        self.wait()\\n\\n        self.play(ReplacementTransform(beta_plus_label, positron_label))\\n\\n        self.wait()\\n        \\n        # Gamma decay\\n        new_daughter2_nucleons = daughter2.get_nucleons_list()\\n        random.shuffle(new_daughter2_nucleons)\\n        new_daughter2 = nuclear.Nucleus().init_from_nucleons(new_daughter2_nucleons, NUCLEON_SEPARATION, 4, PARTICLE_SIZE_MULTIPLIER, False)\\n        new_daughter2.move_to(daughter2)\\n        # Find some point on the edge of the nucleus\\n        \\n        gamma_init_coords = daughter2.find_closest_nucleon((0, 0)).get_center()\\n        initial_arrow = Arrow(start=gamma_init_coords, end=gamma_init_coords)\\n        final_arrow = Arrow(start=gamma_init_coords, end=(4 * RIGHT + 2 * UP))\\n        # Move the gamma particle with the arrow\\n        gamma_label = MathTex(r\"\\\\gamma\", font_size=PARTICLE_LABEL_FONT_SIZE)\\n        gamma_label.move_to(initial_arrow)\\n        gamma_label.add_updater(lambda x: x.move_to(initial_arrow.point_from_proportion(0.7)).shift(0.3 * UP)))\\n        self.add(initial_arrow, gamma_label)\\n        # Go from each original nucleon to the shuffled one\\n        self.play(ReplacementTransform(initial_arrow, final_arrow), *map(lambda n: ReplacementTransform(n[0], n[1]), zip(new_daughter2_nucleons, new_daughter2.get_nucleons_list())))\\n        self.wait(1)\\n')\u001b[0m\n",
      "\u001b[0m  File \u001b[1;32m~/miniconda3/envs/manim/lib/python3.11/site-packages/IPython/core/interactiveshell.py:2478\u001b[0m in \u001b[1;35mrun_cell_magic\u001b[0m\n    result = fn(*args, **kwargs)\u001b[0m\n",
      "\u001b[0;36m  File \u001b[0;32m~/miniconda3/envs/manim/lib/python3.11/site-packages/manim/utils/ipython_magic.py:120\u001b[0;36m in \u001b[0;35mmanim\u001b[0;36m\n\u001b[0;31m    exec(cell, local_ns)\u001b[0;36m\n",
      "\u001b[0;36m  File \u001b[0;32m<string>:64\u001b[0;36m\u001b[0m\n\u001b[0;31m    gamma_label.add_updater(lambda x: x.move_to(initial_arrow.point_from_proportion(0.7)).shift(0.3 * UP)))\u001b[0m\n\u001b[0m                                                                                                          ^\u001b[0m\n\u001b[0;31mSyntaxError\u001b[0m\u001b[0;31m:\u001b[0m unmatched ')'\n"
     ]
    }
   ],
   "source": [
    "%%manim -v WARNING --disable_caching -qm MainScene\n",
    "\n",
    "reload(nuclear)\n",
    "\n",
    "config.media_width = \"75%\"\n",
    "config.media_embed = True\n",
    "\n",
    "PARTICLE_SIZE_MULTIPLIER = 0.6\n",
    "NUCLEON_SEPARATION = 1.0\n",
    "PARTICLE_LABEL_FONT_SIZE = 30\n",
    "\n",
    "class MainScene(Scene):\n",
    "    def construct(self):\n",
    "        nucleus = nuclear.Nucleus().init_from_nums(12, 12, NUCLEON_SEPARATION, 4, PARTICLE_SIZE_MULTIPLIER, seed=6)\n",
    "\n",
    "        self.play(*nucleus.create_anims())  # show the nucleus on screen\n",
    "        \n",
    "        self.wait()\n",
    "        # Alpha decay\n",
    "        daughter1, daughter2, pairs1, pairs2 = nucleus.decay(2, 2, (2, -1), False, False, 1)\n",
    "\n",
    "        daughter1.shift(4 * RIGHT + 2 * DOWN)\n",
    "        \n",
    "        self.play(*map(lambda p: ReplacementTransform(p[0], p[1]), pairs1 + pairs2))\n",
    "\n",
    "        self.play(daughter2.animate.shift(2 * LEFT))\n",
    "\n",
    "        self.wait()\n",
    "        \n",
    "        # Beta + decay\n",
    "        # pick a nucleon to decay\n",
    "        proton = daughter2.find_closest_nucleon((-2, -1), nuclear.PROTON)\n",
    "        # Turn it into a neutron\n",
    "        neutron = nuclear.Particle(nuclear.NEUTRON, PARTICLE_SIZE_MULTIPLIER)\n",
    "        neutron.move_to(proton)\n",
    "\n",
    "        positron = nuclear.Particle(nuclear.POSITRON, PARTICLE_SIZE_MULTIPLIER)\n",
    "        positron.move_to(proton)\n",
    "\n",
    "        beta_plus_label = nuclear.ParticleLabel(positron, PARTICLE_LABEL_FONT_SIZE, r\"\\beta^+\")\n",
    "        positron_label = nuclear.ParticleLabel(positron, PARTICLE_LABEL_FONT_SIZE)\n",
    "\n",
    "        self.add(positron, beta_plus_label)\n",
    "        self.play(Transform(proton, neutron), positron.animate.shift(2 * LEFT + DOWN), run_time=1)\n",
    "\n",
    "        self.wait()\n",
    "\n",
    "        self.play(ReplacementTransform(beta_plus_label, positron_label))\n",
    "\n",
    "        self.wait()\n",
    "        \n",
    "        # Gamma decay\n",
    "        new_daughter2_nucleons = daughter2.get_nucleons_list()\n",
    "        random.shuffle(new_daughter2_nucleons)\n",
    "        new_daughter2 = nuclear.Nucleus().init_from_nucleons(new_daughter2_nucleons, NUCLEON_SEPARATION, 4, PARTICLE_SIZE_MULTIPLIER, False)\n",
    "        new_daughter2.move_to(daughter2)\n",
    "        # Find some point on the edge of the nucleus\n",
    "        \n",
    "        gamma_init_coords = daughter2.find_closest_nucleon((0, 0)).get_center()\n",
    "        initial_arrow = Arrow(start=gamma_init_coords, end=gamma_init_coords)\n",
    "        final_arrow = Arrow(start=gamma_init_coords, end=(4 * RIGHT + 2 * UP))\n",
    "        # Move the gamma particle with the arrow\n",
    "        gamma_label = MathTex(r\"\\gamma\", font_size=PARTICLE_LABEL_FONT_SIZE)\n",
    "        gamma_label.move_to(initial_arrow)\n",
    "        gamma_label.add_updater(lambda x: x.move_to(initial_arrow.point_from_proportion(0.7)).shift(0.3 * UP)))\n",
    "        self.add(initial_arrow, gamma_label)\n",
    "        # Go from each original nucleon to the shuffled one\n",
    "        self.play(ReplacementTransform(initial_arrow, final_arrow), *map(lambda n: ReplacementTransform(n[0], n[1]), zip(new_daughter2_nucleons, new_daughter2.get_nucleons_list())))\n",
    "        self.wait(1)"
   ]
  },
  {
   "cell_type": "code",
   "execution_count": null,
   "id": "686f1096-eeca-495d-a987-2cf6883ff28b",
   "metadata": {},
   "outputs": [],
   "source": []
  }
 ],
 "metadata": {
  "kernelspec": {
   "display_name": "Python [conda env:manim]",
   "language": "python",
   "name": "conda-env-manim-py"
  },
  "language_info": {
   "codemirror_mode": {
    "name": "ipython",
    "version": 3
   },
   "file_extension": ".py",
   "mimetype": "text/x-python",
   "name": "python",
   "nbconvert_exporter": "python",
   "pygments_lexer": "ipython3",
   "version": "3.11.4"
  }
 },
 "nbformat": 4,
 "nbformat_minor": 5
}
